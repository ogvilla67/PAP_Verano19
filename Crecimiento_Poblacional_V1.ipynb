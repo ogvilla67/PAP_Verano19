{
 "cells": [
  {
   "cell_type": "markdown",
   "metadata": {},
   "source": [
    "### 1H01 - DESARROLLO DE SOLUCIONES INNOVADORAS DE ALTO IMPACTO SOCIAL PARA LA COMUNIDAD INDÍGENA DE TLAJOMULCO\n",
    "\n",
    "<img style=\"float: right; margin: 0px 0px 15px 15px;\" src=\"https://upload.wikimedia.org/wikipedia/commons/d/db/Logo_ITESO_normal.jpg\" width=\"130px\" height=\"80px\" />\n",
    "\n",
    "\n",
    "> ## Crecimiento poblacional de las gallinas\n",
    "> ### \"A falta de gallos, gallinas\""
   ]
  },
  {
   "cell_type": "markdown",
   "metadata": {},
   "source": [
    "## Resumen"
   ]
  },
  {
   "cell_type": "markdown",
   "metadata": {},
   "source": [
    "El primer propósito de este documento es el de proponer un modelo matemático que sirva como una herramienta para calcular, a partir de la población presente, la población futura a 6, 12 y 18 meses. También, servirá para pronosticar la cantidad de casas de gallina que serán necesarias construir, para mantener el crecimiento de la población. Indirectamente, este modelo matemático permite calcular cifras útiles para proponer una medición de impacto económico y social por este proyecto, las cuales serían el ingreso generado por la venta de huevo, el egreso ahorrado por el autoconsumo y una mejora en la alimentación de la familia."
   ]
  },
  {
   "cell_type": "markdown",
   "metadata": {},
   "source": [
    "## Supuestos"
   ]
  },
  {
   "cell_type": "markdown",
   "metadata": {},
   "source": [
    "1) La edad a partir de la cual una gallina se considera productora son las 24 semanas.\n",
    "\n",
    "2) Debido a la capacidad de producción de una gallina ponedora, la razón de crecimiento que se utilizará es $49\\over 25$, a la cual llegamos mediante la siguiente fórmula: $$ R = {ln({P_t\\over P_i}) x {1\\over t} x 100}$$ \n",
    "Donde: \n",
    "- $P_t =$ Población total\n",
    "- $P_i =$ Población inicial\n",
    "- $t =$ 6 meses\n"
   ]
  },
  {
   "cell_type": "markdown",
   "metadata": {},
   "source": [
    "## Condiciones iniciales"
   ]
  },
  {
   "cell_type": "markdown",
   "metadata": {},
   "source": [
    "$t_i = P_i$\n",
    "\n",
    "$t_6 = {49\\over 25} P_i$\n",
    "\n",
    "$t_2 = ?$\n",
    "\n",
    "$$ {\\delta P \\over \\delta t} = kP $$"
   ]
  },
  {
   "cell_type": "markdown",
   "metadata": {},
   "source": [
    "## Resolución"
   ]
  },
  {
   "cell_type": "markdown",
   "metadata": {},
   "source": [
    "Partimos de la condición inicial, y despejamos para facilitar el manejo de la ecuación.\n",
    "$$ \\begin{aligned} {\\delta P \\over \\delta t} = kP \\\\\n",
    "{\\delta P \\over P} = k\\delta t \\end{aligned}$$\n",
    "\n",
    "Ahora integramos en ambos lados y resolvemos\n",
    "\n",
    "$$ \\begin{aligned} \\int {\\delta P \\over P} = {k\\int \\delta t}\\\\\n",
    "{\\ln{(P)} = kt + c}\\end{aligned}$$\n",
    "\n",
    "Despejando para $P$ y simplificando, obtenemos:\n",
    "$$ \\begin{aligned} P = e^{kt+c} \\\\\n",
    "P = e^{kt} + e^{c} \\\\\n",
    "P = Ae^{kt} \\end{aligned}$$"
   ]
  },
  {
   "cell_type": "markdown",
   "metadata": {},
   "source": [
    "Aplicamos las condiciones iniciales, donde $P[0] = P_i$\n",
    "$$ P_i = Ae^{k(0)} $$\n",
    "Por lo que $P_i=A$\n",
    "\n",
    "El siguiente paso es sustituir en $P[1]= {49\\over25}P_i$\n",
    "$$ \\begin{aligned} {49 \\over 25}P_i = Ae^{k} \\\\\n",
    "e^{k} = {49 \\over 25} \\\\\n",
    "k \\approx .6729 \\end{aligned} $$"
   ]
  },
  {
   "cell_type": "markdown",
   "metadata": {},
   "source": [
    "Por lo tanto, la ecuación a resolver queda de la siguiente manera:\n",
    "$$ P = P_ie^{.6729t}$$"
   ]
  },
  {
   "cell_type": "markdown",
   "metadata": {},
   "source": [
    "Ahora bien, si de las 40 gallinas que se adquirieron, se tomaran 20 para la reproducción, ¿Cuántas gallinas tendríamos en $t=2$?\n",
    ">*Recordemos que cada unidad de t es de 6 meses."
   ]
  },
  {
   "cell_type": "markdown",
   "metadata": {},
   "source": [
    "$P = ?$\n",
    "\n",
    "$P_i = 20$\n",
    "\n",
    "$t = 2$\n",
    "\n",
    "$$ P = 20e^{(2)(.6729)}$$"
   ]
  },
  {
   "cell_type": "markdown",
   "metadata": {},
   "source": [
    "Resolvemos y se obtiene que la población en ese punto es de 153 gallinas, con lo que se triplicaría el impacto en la comunidad."
   ]
  },
  {
   "cell_type": "markdown",
   "metadata": {},
   "source": [
    "## Supuestos de producción y consumo"
   ]
  },
  {
   "cell_type": "markdown",
   "metadata": {},
   "source": [
    "Ahora bien, el impacto en una familia dentro del programa sería el siguiente:\n",
    "- El consumo de huevo de un mexicano promedio es de 2 kg por mes, y si cada kg tiene 16 huevos en promedio, serían 1 huevo diario en promedio por persona.\n",
    "- La cartera de 30 huevos tiene un valor comercial de $57.50$ MXN, mientras que el kilo se vende en $20.50$ MXN.\n",
    "- Una gallina tiene la capacidad de producir entre 290 y 305 huevos al año, (24 por mes aproximadamente)."
   ]
  },
  {
   "cell_type": "markdown",
   "metadata": {},
   "source": [
    "## Propuesta de variables de impacto"
   ]
  },
  {
   "cell_type": "markdown",
   "metadata": {},
   "source": [
    ">- Impacto económico\n",
    ">>- Reducción del gasto familiar por producir su propio alimento.\n"
   ]
  },
  {
   "cell_type": "markdown",
   "metadata": {},
   "source": [
    "Si el ingreso medio del sector más pobre de la comunidad se encuentra entre los $3,000$ y los $7,000$ MXN, con gastos del 75% en alimentación, el impacto porcentual de ahorro oscila entre el 7% y el 16% del ingreso total mensual, suponiendo que la familia es de 6 integrantes."
   ]
  },
  {
   "cell_type": "markdown",
   "metadata": {},
   "source": [
    "## Referencias"
   ]
  },
  {
   "cell_type": "markdown",
   "metadata": {},
   "source": [
    "#### Hacer citas en APA\n",
    "\n",
    "http://scielo.sld.cu/scielo.php?script=sci_arttext&pid=S2224-79202018000100005\n",
    "\n",
    "http://www.ayv.unrc.edu.ar/ojs/index.php/Ab_Intus/article/download/30/30/\n",
    "\n",
    "- Trabajo PAP Primavera 2019"
   ]
  }
 ],
 "metadata": {
  "kernelspec": {
   "display_name": "Python 3",
   "language": "python",
   "name": "python3"
  },
  "language_info": {
   "codemirror_mode": {
    "name": "ipython",
    "version": 3
   },
   "file_extension": ".py",
   "mimetype": "text/x-python",
   "name": "python",
   "nbconvert_exporter": "python",
   "pygments_lexer": "ipython3",
   "version": "3.7.0"
  }
 },
 "nbformat": 4,
 "nbformat_minor": 2
}
