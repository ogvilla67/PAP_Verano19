{
 "cells": [
  {
   "cell_type": "markdown",
   "metadata": {},
   "source": [
    "### 1H01 - DESARROLLO DE SOLUCIONES INNOVADORAS DE ALTO IMPACTO SOCIAL PARA LA COMUNIDAD INDÍGENA DE TLAJOMULCO\n",
    "\n",
    "<img style=\"float: right; margin: 0px 0px 15px 15px;\" src=\"https://upload.wikimedia.org/wikipedia/commons/d/db/Logo_ITESO_normal.jpg\" width=\"130px\" height=\"80px\" />\n",
    "\n",
    "\n",
    "> ## Crecimiento poblacional de las gallinas\n",
    "> ### \"A falta de gallos, gallinas\""
   ]
  },
  {
   "cell_type": "markdown",
   "metadata": {},
   "source": [
    "## Resumen"
   ]
  },
  {
   "cell_type": "markdown",
   "metadata": {},
   "source": [
    "El primer propósito de este documento es el de proponer un modelo matemático que sirva como una herramienta para calcular, a partir de la población presente, la población futura a 6, 12 y 18 meses. También, servirá para pronosticar la cantidad de gallineros que serán necesarias construir, para mantener el crecimiento de la población. Indirectamente, este modelo matemático permite calcular cifras útiles para proponer una medición de impacto económico y social por este proyecto, enfocado en este periodo al ahorro del ingreso neto de los hogares mediante el autoconsumo de los huevos, impactando al rubro de la alimanteción, al cual se destina un 75% del ingreso de los hogares en la CIT."
   ]
  },
  {
   "cell_type": "markdown",
   "metadata": {},
   "source": [
    "## Supuestos"
   ]
  },
  {
   "cell_type": "markdown",
   "metadata": {},
   "source": [
    "1) La edad a partir de la cual una gallina se considera productora son las 24 semanas.\n",
    "\n",
    "2) Debido a la capacidad de producción de una gallina ponedora, la razón de crecimiento que se utilizará es $49\\over 25$, a la cual llegamos mediante la siguiente fórmula: $$ R = {ln({P_t\\over P_i}) x {1\\over t} x 100}$$ \n",
    "Donde: \n",
    "- $P_t =$ Población total\n",
    "- $P_i =$ Población inicial\n",
    "- $t =$ 6 meses\n"
   ]
  },
  {
   "cell_type": "markdown",
   "metadata": {},
   "source": [
    "## Condiciones iniciales"
   ]
  },
  {
   "cell_type": "markdown",
   "metadata": {},
   "source": [
    "$t_i = P_i$\n",
    "\n",
    "$t_6 = {49\\over 25} P_i$\n",
    "\n",
    "$t_2 = ?$\n",
    "\n",
    "$$ {\\delta P \\over \\delta t} = kP $$"
   ]
  },
  {
   "cell_type": "markdown",
   "metadata": {},
   "source": [
    "## Resolución"
   ]
  },
  {
   "cell_type": "markdown",
   "metadata": {},
   "source": [
    "Partimos de la condición inicial, y despejamos para facilitar el manejo de la ecuación.\n",
    "$$ \\begin{aligned} {\\delta P \\over \\delta t} = kP \\\\\n",
    "{\\delta P \\over P} = k\\delta t \\end{aligned}$$\n",
    "\n",
    "Ahora integramos en ambos lados y resolvemos\n",
    "\n",
    "$$ \\begin{aligned} \\int {\\delta P \\over P} = {k\\int \\delta t}\\\\\n",
    "{\\ln{(P)} = kt + c}\\end{aligned}$$\n",
    "\n",
    "Despejando para $P$ y simplificando, obtenemos:\n",
    "$$ \\begin{aligned} P = e^{kt+c} \\\\\n",
    "P = e^{kt} + e^{c} \\\\\n",
    "P = Ae^{kt} \\end{aligned}$$"
   ]
  },
  {
   "cell_type": "markdown",
   "metadata": {},
   "source": [
    "Aplicamos las condiciones iniciales, donde $P[0] = P_i$\n",
    "$$ P_i = Ae^{k(0)} $$\n",
    "Como $e^0 = 1$, llegamos a que $P_i=A$\n",
    "\n",
    "El siguiente paso es sustituir en $P[1]= {49\\over25}P_i$\n",
    "$$ \\begin{aligned} {49 \\over 25}P_i = Ae^{k} \\\\\n",
    "e^{k} = {49 \\over 25} \\\\\n",
    "k \\approx .6729 \\end{aligned} $$"
   ]
  },
  {
   "cell_type": "markdown",
   "metadata": {},
   "source": [
    "Por lo tanto, la ecuación a resolver queda de la siguiente manera:\n",
    "$$ P = P_ie^{.6729t}$$"
   ]
  },
  {
   "cell_type": "markdown",
   "metadata": {},
   "source": [
    "Ahora bien, si de las 40 gallinas que se adquirieron, se tomaran las 14 que quedaban pendientes de entrega para la reproducción, ¿Cuántas gallinas tendríamos en $t=1$, $t=2$ y $t=3$?\n",
    ">*Recordemos que cada unidad de t es de 6 meses."
   ]
  },
  {
   "cell_type": "markdown",
   "metadata": {},
   "source": [
    "$P = ?$\n",
    "\n",
    "$P_i = 14$\n",
    "\n",
    "$t = 1$\n",
    "\n",
    "$t = 2$\n",
    "\n",
    "$t = 3$\n",
    "\n",
    "$$ P = 14e^{(t)(.6729)}$$"
   ]
  },
  {
   "cell_type": "markdown",
   "metadata": {},
   "source": [
    "Resolvemos y se obtiene que lo siguiente:"
   ]
  },
  {
   "cell_type": "markdown",
   "metadata": {},
   "source": [
    "| t (6 meses) | Población de gallinas           |\n",
    "| ------------|-------------------------------- |\n",
    "| 1           | 27                              |\n",
    "| 2           | 53                              |\n",
    "| 3           | 105                             |"
   ]
  },
  {
   "cell_type": "markdown",
   "metadata": {},
   "source": [
    "Podemos observar que en 18 meses, bajo el escenario en el que se dedicaran totalmente a la reproducción estas 14 gallinas, el impacto que se lograría en la comunidad es aproximadamente el triple de la pobación participante en la prueba piloto.\n",
    "\n",
    "Se necesitarían alrededor de 20 gallineros para el resguardo de la población final."
   ]
  },
  {
   "cell_type": "markdown",
   "metadata": {},
   "source": [
    "## Supuestos de producción y consumo"
   ]
  },
  {
   "cell_type": "markdown",
   "metadata": {},
   "source": [
    "Ahora bien, el impacto en una familia dentro del programa sería el siguiente:\n",
    "- El consumo de huevo de un mexicano promedio es de 2 kg por mes, y si cada kg tiene 16 huevos en promedio, serían 1 huevo diario en promedio por persona.\n",
    "- La cartera de 30 huevos tiene un valor comercial de $57.50$ MXN, mientras que el kilo se vende en $20.50$ MXN.\n",
    "- Una gallina tiene la capacidad de producir entre 290 y 305 huevos al año, (24 por mes aproximadamente)."
   ]
  },
  {
   "cell_type": "markdown",
   "metadata": {},
   "source": [
    "## Propuesta de variables de impacto"
   ]
  },
  {
   "cell_type": "markdown",
   "metadata": {},
   "source": [
    ">- Impacto económico\n",
    ">>- Reducción del gasto familiar por producir su propio alimento.\n"
   ]
  },
  {
   "cell_type": "markdown",
   "metadata": {},
   "source": [
    "Si el ingreso medio del sector más pobre de la comunidad se encuentra entre los $3,000$ y los $7,000$ MXN, con gastos del 75% en alimentación, el impacto porcentual de ahorro oscila entre el 7% y el 16% del ingreso total mensual, suponiendo que la familia es de 6 integrantes."
   ]
  },
  {
   "cell_type": "markdown",
   "metadata": {},
   "source": [
    "## Referencias"
   ]
  },
  {
   "cell_type": "markdown",
   "metadata": {},
   "source": [
    "Romera, B.; Martines, A.; Librera, J.; Canet, Z.; Dottavio, A.; Di\n",
    "Masso, R. (2018) Crecimiento dimensional prepostura de gallinas camperas con\n",
    "asignación de nutrientes a discreción y restringida. Revista Científica FAV-UNRC\n",
    "Ab Intus 2 (1): 56-63\n",
    "\n",
    "Gómez Cuello, Jorge E, Fraga Benítez, Luis M, Pedraza, Redimio M, Vázquez Montes de Oca, Roberto, & Valdivié Navarro, Manuel. (2018). Uso de modelos no lineales para el crecimiento, desarrollo y postura de gallinas White Leghorn L33 con relación a indicadores económicos. Revista de Producción Animal, 30(1), 30-38. Recuperado en 02 de diciembre de 2019, de http://scielo.sld.cu/scielo.php?script=sci_arttext&pid=S2224-79202018000100005&lng=es&tlng=es. "
   ]
  }
 ],
 "metadata": {
  "kernelspec": {
   "display_name": "Python 3",
   "language": "python",
   "name": "python3"
  },
  "language_info": {
   "codemirror_mode": {
    "name": "ipython",
    "version": 3
   },
   "file_extension": ".py",
   "mimetype": "text/x-python",
   "name": "python",
   "nbconvert_exporter": "python",
   "pygments_lexer": "ipython3",
   "version": "3.7.0"
  }
 },
 "nbformat": 4,
 "nbformat_minor": 2
}
